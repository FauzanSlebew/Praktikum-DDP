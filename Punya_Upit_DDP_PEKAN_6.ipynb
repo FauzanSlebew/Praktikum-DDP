{
  "nbformat": 4,
  "nbformat_minor": 0,
  "metadata": {
    "colab": {
      "provenance": [],
      "authorship_tag": "ABX9TyON1Vq9kma9hveFTWre+1F+",
      "include_colab_link": true
    },
    "kernelspec": {
      "name": "python3",
      "display_name": "Python 3"
    },
    "language_info": {
      "name": "python"
    }
  },
  "cells": [
    {
      "cell_type": "markdown",
      "metadata": {
        "id": "view-in-github",
        "colab_type": "text"
      },
      "source": [
        "<a href=\"https://colab.research.google.com/github/FauzanSlebew/Praktikum-DDP/blob/main/Punya_Upit_DDP_PEKAN_6.ipynb\" target=\"_parent\"><img src=\"https://colab.research.google.com/assets/colab-badge.svg\" alt=\"Open In Colab\"/></a>"
      ]
    },
    {
      "cell_type": "code",
      "execution_count": null,
      "metadata": {
        "id": "FI76aeAFwH0H"
      },
      "outputs": [],
      "source": [
        "numbers = [\n",
        "951, 402, 984, 651, 360, 69, 408, 319, 601, 485, 980, 507, 725,\n",
        "547, 544, 615, 83, 165, 141, 501, 263, 617, 865, 575, 219, 390,\n",
        "984, 592, 236, 105, 942, 941, 386, 462, 47, 418, 907, 344, 236,\n",
        "375, 823, 566, 597, 978, 328, 615, 953, 345, 399, 162, 758, 219,\n",
        "918, 237, 412, 566, 826, 248, 866, 950, 626, 949, 687, 217, 815,\n",
        "67, 104, 58, 512, 24, 892, 894, 767, 553, 81, 379, 843, 831, 445,\n",
        "742, 717, 958, 609, 842, 451, 688, 753, 854, 685, 93, 857, 440,\n",
        "380, 126, 721, 328, 753, 470, 743, 527\n",
        "]\n",
        "i = 0\n",
        "while i <= len(numbers):\n",
        "  if numbers[i] % 2:\n",
        "    print(numbers[i])\n",
        "  if numbers[i] == 553:\n",
        "   break\n",
        "  i+= 1\n",
        "print(\"Finish^^\")\n"
      ]
    },
    {
      "cell_type": "code",
      "source": [
        "x = 0\n",
        "for i in range(1,20,2):\n",
        "    x = x + i\n",
        "    print(x)\n",
        "\n",
        "print(\"Finish^^\")\n",
        "\n",
        ""
      ],
      "metadata": {
        "id": "SCiFYgY01a6u"
      },
      "execution_count": null,
      "outputs": []
    },
    {
      "cell_type": "code",
      "source": [
        "jumlah_baris = int(input(\"masukan jumlah baris : \"))\n",
        "for i in range(1, jumlah_baris +1):\n",
        "  print(\"*\" * i)\n",
        "print(\"Finish^^\")"
      ],
      "metadata": {
        "id": "LHTTpHsg7acU"
      },
      "execution_count": null,
      "outputs": []
    }
  ]
}